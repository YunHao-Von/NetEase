{
 "cells": [
  {
   "cell_type": "code",
   "execution_count": 1,
   "metadata": {},
   "outputs": [],
   "source": [
    "from data_get import *\n",
    "import pandas as pd"
   ]
  },
  {
   "cell_type": "code",
   "execution_count": 3,
   "metadata": {},
   "outputs": [],
   "source": [
    "dataspider = User_spider()\n",
    "\"\"\"测试能否正常获取歌单id\"\"\"\n",
    "uid=5038805378\n",
    "dataspider.get_playlist_id_from_usersid(uid)\n",
    "\"\"\"测试能否从歌单中获取歌曲ID\"\"\"\n",
    "playlist_one_id=7318835037\n",
    "dataspider.get_songsids_from_playlistid(playlist_one_id=7318835037)\n",
    "\"\"\"测试能够从歌曲ID中拿到用户的ID\"\"\"\n",
    "song_id = 436514312\n",
    "dataspider.get_userids_from_songid(song_id) + dataspider.get_userids_from_songid(202373) \n",
    "\"\"\"测试能够由一个用户获取其他用户的id\"\"\"\n",
    "user_id = dataspider.userid_spider_fit(5038805378)\n",
    "user_result = list(set(user_id))\n",
    "user = dict()\n",
    "user['user_id'] = user_result\n",
    "user = pd.DataFrame(user)\n",
    "user.to_csv('data_from_netease/users.csv',index=False)"
   ]
  },
  {
   "cell_type": "code",
   "execution_count": 3,
   "metadata": {},
   "outputs": [],
   "source": [
    "import pickle\n",
    "\n",
    "def save_obj(obj, name ):\n",
    "    with open('data_from_netease/'+ name + '.pkl', 'wb') as f:\n",
    "        pickle.dump(obj, f, pickle.HIGHEST_PROTOCOL)\n",
    "\n",
    "def load_obj(name ):\n",
    "    with open('data_from_netease/' + name + '.pkl', 'rb') as f:\n",
    "        return pickle.load(f)\n",
    "result = dict()\n",
    "for user_id in user_result[0:3]:\n",
    "    result[str(user_id)] = dataspider.usersongs_spider_fit(user_id)"
   ]
  },
  {
   "cell_type": "code",
   "execution_count": 4,
   "metadata": {},
   "outputs": [],
   "source": [
    "save_obj(result,\"data\")"
   ]
  }
 ],
 "metadata": {
  "interpreter": {
   "hash": "ccbbd2c8d6f0454f49f0573ac39ade4c6b7b96387836a6c677c3c96dbd41c676"
  },
  "kernelspec": {
   "display_name": "Python 3.7.12 ('work')",
   "language": "python",
   "name": "python3"
  },
  "language_info": {
   "codemirror_mode": {
    "name": "ipython",
    "version": 3
   },
   "file_extension": ".py",
   "mimetype": "text/x-python",
   "name": "python",
   "nbconvert_exporter": "python",
   "pygments_lexer": "ipython3",
   "version": "3.7.12"
  },
  "orig_nbformat": 4
 },
 "nbformat": 4,
 "nbformat_minor": 2
}
