{
 "cells": [
  {
   "cell_type": "code",
   "execution_count": 5,
   "metadata": {},
   "outputs": [],
   "source": [
    "import requests\n",
    "import json"
   ]
  },
  {
   "cell_type": "code",
   "execution_count": 6,
   "metadata": {},
   "outputs": [
    {
     "data": {
      "text/plain": [
       "[6795335461, 7318835037]"
      ]
     },
     "execution_count": 6,
     "metadata": {},
     "output_type": "execute_result"
    }
   ],
   "source": [
    "\"\"\"确保已经正常登陆\"\"\"\n",
    "uid=5038805378  # 初始化一个用户id(这里是作者本人的)\n",
    "# uid = 3867632510\n",
    "login_url='http://localhost:3000/login/cellphone?phone=13408462303&password=shiyan123456789'  # 模拟登陆IP\n",
    "connect= requests.Session()  # 准备Session\n",
    "login_data=connect.get(url=login_url)  # 登陆后拿到用户数据\n",
    "login_data = json.loads(login_data.text)\n",
    "assert login_data['code'] == 200\n",
    "\"\"\"获取当前用户歌单中的所有歌曲ID\"\"\"\n",
    "\n",
    "user_playlist_url='http://localhost:3000/user/playlist?uid='+str(uid)  # 获取当前用户的歌单\n",
    "play_list_web = connect.get(url=user_playlist_url)\n",
    "play_list_web = json.loads(play_list_web.text)\n",
    "assert play_list_web['code'] == 200\n",
    "playlist_id = list()  # 本列表存储用户的所有歌单的ID\n",
    "for playlist_ in play_list_web['playlist'] :\n",
    "    playlist_id.append(playlist_['id'])\n",
    "playlist_id"
   ]
  },
  {
   "cell_type": "code",
   "execution_count": 7,
   "metadata": {},
   "outputs": [
    {
     "data": {
      "text/plain": [
       "[436514312,\n",
       " 202373,\n",
       " 447926067,\n",
       " 202369,\n",
       " 29567193,\n",
       " 29567189,\n",
       " 29567192,\n",
       " 29567191,\n",
       " 447925059,\n",
       " 447926063,\n",
       " 447925066,\n",
       " 447925058,\n",
       " 29567187,\n",
       " 530995556,\n",
       " 437608773,\n",
       " 202368,\n",
       " 1295824647,\n",
       " 33166602,\n",
       " 1410021043,\n",
       " 29567190,\n",
       " 202376,\n",
       " 456185373,\n",
       " 202377,\n",
       " 517567264,\n",
       " 29567194,\n",
       " 433018042,\n",
       " 29567185,\n",
       " 29567186,\n",
       " 447925067,\n",
       " 460628183]"
      ]
     },
     "execution_count": 7,
     "metadata": {},
     "output_type": "execute_result"
    }
   ],
   "source": [
    "\"\"\"通过歌单的ID获得歌单中所有歌曲的ID\"\"\"\n",
    "playlist_one_id=7318835037\n",
    "playlist_details_url = \"http://localhost:3000/playlist/detail?id=\" + str(playlist_one_id)\n",
    "playlist_details_web = connect.get(url = playlist_details_url)\n",
    "playlist_details_web = json.loads(playlist_details_web.text)\n",
    "assert playlist_details_web['code'] == 200\n",
    "songs_id = list()\n",
    "for song_info in playlist_details_web['playlist']['tracks']:\n",
    "    songs_id.append(song_info['id'])\n",
    "songs_id"
   ]
  },
  {
   "cell_type": "code",
   "execution_count": 8,
   "metadata": {},
   "outputs": [
    {
     "data": {
      "text/plain": [
       "[3867632510,\n",
       " 1567162422,\n",
       " 1881142258,\n",
       " 267462089,\n",
       " 3896493147,\n",
       " 1746310267,\n",
       " 88244480,\n",
       " 4005515794,\n",
       " 6328250064,\n",
       " 1738573890,\n",
       " 1390704496,\n",
       " 1922466505,\n",
       " 1869124742,\n",
       " 113006691,\n",
       " 1553245344,\n",
       " 4985756921,\n",
       " 3874601635,\n",
       " 1319461109,\n",
       " 1973762737,\n",
       " 1973762737,\n",
       " 1973762737,\n",
       " 3972641943,\n",
       " 1540179808,\n",
       " 6463896934,\n",
       " 448983146,\n",
       " 4911083020,\n",
       " 620577463,\n",
       " 3696545102,\n",
       " 359598125,\n",
       " 6297536409,\n",
       " 117850251,\n",
       " 1852249921,\n",
       " 1378715187,\n",
       " 4918699829,\n",
       " 1382199172,\n",
       " 87568867,\n",
       " 1592352673,\n",
       " 5217219886,\n",
       " 1329764255,\n",
       " 1723041497,\n",
       " 448983146,\n",
       " 273325019,\n",
       " 276424267,\n",
       " 3258229597,\n",
       " 1882357469,\n",
       " 618497039,\n",
       " 1933204223,\n",
       " 515389906,\n",
       " 1536124604,\n",
       " 317813679,\n",
       " 317813679,\n",
       " 1462106535,\n",
       " 419324528,\n",
       " 5089286922,\n",
       " 1456698903,\n",
       " 1379964078,\n",
       " 619870194,\n",
       " 1856647763,\n",
       " 1540179808,\n",
       " 118985270,\n",
       " 1839891079,\n",
       " 359598125,\n",
       " 345652194,\n",
       " 482819433,\n",
       " 424117269,\n",
       " 1590194011,\n",
       " 1483607032,\n",
       " 1311728275,\n",
       " 1676086779,\n",
       " 1434981178,\n",
       " 1467146041,\n",
       " 114375717,\n",
       " 1565775101,\n",
       " 329258365,\n",
       " 414751329,\n",
       " 274955351,\n",
       " 274955351,\n",
       " 309435206,\n",
       " 533717221,\n",
       " 357225343,\n",
       " 1811641233,\n",
       " 626478684,\n",
       " 566813337,\n",
       " 451394292,\n",
       " 549339119,\n",
       " 2057935687,\n",
       " 1734674318,\n",
       " 1578007082,\n",
       " 1704376035,\n",
       " 6455326180,\n",
       " 1525312181,\n",
       " 1392772241,\n",
       " 644635180,\n",
       " 1392772241,\n",
       " 349974200,\n",
       " 1160653,\n",
       " 6362450362,\n",
       " 2068562674,\n",
       " 367376145,\n",
       " 1370191299]"
      ]
     },
     "execution_count": 8,
     "metadata": {},
     "output_type": "execute_result"
    }
   ],
   "source": [
    "\"\"\"通过歌曲ID来拿到评论区的用户ID\"\"\"\n",
    "song_id = 436514312\n",
    "comments_url = \"http://localhost:3000/comment/music?id=\"+str(song_id)+\"&limit=100\"\n",
    "comments_web = connect.get(url = comments_url)\n",
    "comments_web = json.loads(comments_web.text)\n",
    "assert comments_web['code'] == 200\n",
    "comments = comments_web['comments']\n",
    "other_user_id = list()\n",
    "for user in comments:\n",
    "    other_user_id.append(user['user']['userId'])\n",
    "other_user_id"
   ]
  },
  {
   "cell_type": "code",
   "execution_count": 10,
   "metadata": {},
   "outputs": [
    {
     "name": "stdout",
     "output_type": "stream",
     "text": [
      "1\n"
     ]
    }
   ],
   "source": [
    "\"\"\"确保已经正常登陆\"\"\"\n",
    "try:\n",
    "    uid=5038805378  # 初始化一个用户id(这里是作者本人的)\n",
    "    # uid = 3867632510\n",
    "    login_url='http://localhost:3000/login/cellphone?phone=13408462303&password=shiyan123456789'  # 模拟登陆IP\n",
    "    connect= requests.Session()  # 准备Session\n",
    "    login_data=connect.get(url=login_url)  # 登陆后拿到用户数据\n",
    "    login_data = json.loads(login_data.text)\n",
    "    assert login_data['code'] == 200\n",
    "except:\n",
    "    print(1)"
   ]
  },
  {
   "cell_type": "code",
   "execution_count": 3,
   "metadata": {},
   "outputs": [
    {
     "data": {
      "text/plain": [
       "[1, 2, 3, 3, 4, 5]"
      ]
     },
     "execution_count": 3,
     "metadata": {},
     "output_type": "execute_result"
    }
   ],
   "source": [
    "a=[1,2,3]\n",
    "b=[3,4,5]\n",
    "a.extend(b)\n",
    "a"
   ]
  }
 ],
 "metadata": {
  "interpreter": {
   "hash": "ccbbd2c8d6f0454f49f0573ac39ade4c6b7b96387836a6c677c3c96dbd41c676"
  },
  "kernelspec": {
   "display_name": "Python 3.7.12 ('work')",
   "language": "python",
   "name": "python3"
  },
  "language_info": {
   "codemirror_mode": {
    "name": "ipython",
    "version": 3
   },
   "file_extension": ".py",
   "mimetype": "text/x-python",
   "name": "python",
   "nbconvert_exporter": "python",
   "pygments_lexer": "ipython3",
   "version": "3.7.12"
  },
  "orig_nbformat": 4
 },
 "nbformat": 4,
 "nbformat_minor": 2
}
